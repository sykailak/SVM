{
 "cells": [
  {
   "cell_type": "code",
   "execution_count": 1,
   "metadata": {},
   "outputs": [],
   "source": [
    "import os\n",
    "os.chdir(\"/Users/suyoung/desktop/NO/project\")\n",
    "\n",
    "import random\n",
    "import numpy as np\n",
    "import matplotlib.pyplot as plt\n",
    "import tensorflow as tf\n",
    "import sys\n",
    "np.set_printoptions(threshold=sys.maxsize)\n",
    "\n",
    "#%load_ext autoreload\n",
    "#%autoreload 2\n",
    "\n",
    "from Newton import *\n",
    "from Helpers import *\n",
    "from Function import *\n",
    "from Classifiers import *\n"
   ]
  },
  {
   "cell_type": "markdown",
   "metadata": {},
   "source": [
    "## Data preparation"
   ]
  },
  {
   "cell_type": "code",
   "execution_count": 45,
   "metadata": {},
   "outputs": [],
   "source": [
    "# Load the dataset (MNIST data)\n",
    "(x_train, y_train), (x_test, y_test) = tf.keras.datasets.mnist.load_data()\n",
    "\n",
    "# Set number of data\n",
    "trainnum = 400\n",
    "testnum = 400\n",
    "\n",
    "digit1 = 1\n",
    "digit2 = 0\n",
    "\n",
    "# Filter 0's and 1's\n",
    "train_idx=[i for i, j in enumerate(y_train) if j == digit1 or j == digit2]\n",
    "test_idx=[i for i, j in enumerate(y_test) if j == digit1 or j == digit2]\n",
    "random.shuffle(train_idx)\n",
    "random.shuffle(test_idx)\n",
    "train_x = x_train[train_idx[:trainnum]]\n",
    "test_x = x_test[test_idx[:testnum]]\n",
    "train_x = train_x.reshape(trainnum,28*28)\n",
    "test_x = test_x.reshape(testnum,28*28)\n",
    "train_y = y_train[train_idx[:trainnum]]    \n",
    "test_y = y_test[test_idx[:testnum]]\n",
    "\n",
    "# Replace label to -1 and 1\n",
    "train_y = np.where(train_y==digit1, -1, train_y) \n",
    "test_y = np.where(test_y==digit1, -1, test_y)\n",
    "\n",
    "train_y = np.where(train_y==digit2, 1, train_y) \n",
    "test_y = np.where(test_y==digit2, 1, test_y)\n",
    "\n",
    "\n",
    "# Normalize\n",
    "train_x, test_x = prep_pixels(train_x,test_x)"
   ]
  },
  {
   "cell_type": "code",
   "execution_count": 46,
   "metadata": {},
   "outputs": [
    {
     "data": {
      "image/png": "[encoded data removed]",
      "text/plain": [
       "<Figure size 1440x720 with 50 Axes>"
      ]
     },
     "metadata": {
      "needs_background": "light"
     },
     "output_type": "display_data"
    }
   ],
   "source": [
    "plt.figure(figsize=(20, 10))\n",
    "for n in range(50):\n",
    "    a = plt.subplot(1, 50, n+1)\n",
    "    plt.imshow(test_x[n].reshape(28,28),\n",
    "               interpolation=\"None\",\n",
    "               cmap='gray')\n",
    "    a.set_title(test_y[n])\n",
    "    plt.axis('off')\n",
    "plt.show()"
   ]
  },
  {
   "cell_type": "code",
   "execution_count": 47,
   "metadata": {},
   "outputs": [
    {
     "data": {
      "image/png": "[encoded data removed]",
      "text/plain": [
       "<Figure size 288x252 with 24 Axes>"
      ]
     },
     "metadata": {
      "needs_background": "light"
     },
     "output_type": "display_data"
    }
   ],
   "source": [
    "plt.figure(figsize=(4, 3.5))\n",
    "for n in range(24):\n",
    "    a = plt.subplot(4,6, n+1)\n",
    "    plt.imshow(test_x[n].reshape(28,28),\n",
    "               interpolation=\"None\",\n",
    "               cmap='gray')\n",
    "    a.set_title(test_y[n])\n",
    "    plt.axis('off')\n",
    "plt.show()"
   ]
  },
  {
   "cell_type": "markdown",
   "metadata": {},
   "source": [
    "## Barrier Interior point algorithm"
   ]
  },
  {
   "cell_type": "code",
   "execution_count": null,
   "metadata": {},
   "outputs": [],
   "source": [
    "# Gaussian\n",
    "param = 0.01 #lower is bigger std\n",
    "C = 2 #controls the balance between the margin and empirical loss\n",
    "mu = 4\n",
    "\n",
    "# Line search hyperparameters\n",
    "rho = 0.5\n",
    "t_0 = 10000 #no difference between 1000 and 10000\n",
    "tol = 1e-7 #no diffrence between 1e-5 and 1e-7\n",
    "c = 1e-4 \n",
    "\n",
    "Barrier_SVM_Classifier(train_x, train_y, test_x, test_y, \"Barrier\", \"Gaussian\", \"Hard\", param, tol, C, rho, c, mu, t_0)\n",
    "Barrier_SVM_Classifier(train_x, train_y, test_x, test_y, \"Barrier\", \"Gaussian\", \"Soft\", param, tol, C, rho, c, mu, t_0)"
   ]
  },
  {
   "cell_type": "code",
   "execution_count": null,
   "metadata": {},
   "outputs": [],
   "source": [
    "# Polynomial\n",
    "param = 1.5 #1 #0.1 #0.0001\n",
    "C = 1 #controls the balance between the margin and empirical loss\n",
    "mu = 4\n",
    "\n",
    "# Line search hyperparameters\n",
    "c = 1e-4 \n",
    "rho = 0.5\n",
    "t_0 = 10000\n",
    "tol = 1e-10 #1e-10>1and0 worked #1e-8 \n",
    "\n",
    "Barrier_SVM_Classifier(train_x, train_y, test_x, test_y, \"Barrier\", \"Polynomial\", \"Hard\", param, tol, C, rho, c, mu, t_0)\n",
    "Barrier_SVM_Classifier(train_x, train_y, test_x, test_y, \"Barrier\", \"Polynomial\", \"Soft\", param, tol, C, rho, c, mu, t_0)"
   ]
  },
  {
   "cell_type": "markdown",
   "metadata": {},
   "source": [
    "## SMO Algorithm"
   ]
  },
  {
   "cell_type": "code",
   "execution_count": null,
   "metadata": {},
   "outputs": [],
   "source": [
    "# Shared hyperparameters\n",
    "\n",
    "tol = 0.0005\n",
    "max_passes = 2\n",
    "\n",
    "# Gaussian\n",
    "param = 0.01 #2\n",
    "C = 1e10 #float(\"inf\")\n",
    "SMO_SVM_Classifier(C, tol, max_passes, train_x, train_y, test_x, test_y, \"SMO\", \"Gaussian\", \"Hard\", param)\n",
    "C = 2\n",
    "SMO_SVM_Classifier(C, tol, max_passes, train_x, train_y, test_x, test_y, \"SMO\", \"Gaussian\", \"Soft\", param)"
   ]
  },
  {
   "cell_type": "code",
   "execution_count": null,
   "metadata": {},
   "outputs": [],
   "source": [
    "# Polynomial\n",
    "tol = 0.9 #0.005\n",
    "max_passes = 2\n",
    "\n",
    "\n",
    "param = 0.01\n",
    "\n",
    "C = 100 #1e10 #float(\"inf\")\n",
    "SMO_SVM_Classifier(C, tol, max_passes, train_x, train_y, test_x, test_y, \"Hard\", \"Polynomial\", \"Hard\", param)\n",
    "C = 1\n",
    "SMO_SVM_Classifier(C, tol, max_passes, train_x, train_y, test_x, test_y, \"Soft\", \"Polynomial\", \"Soft\", param)\n"
   ]
  },
  {
   "cell_type": "code",
   "execution_count": null,
   "metadata": {},
   "outputs": [],
   "source": []
  }
 ],
 "metadata": {
  "kernelspec": {
   "display_name": "Python 3",
   "language": "python",
   "name": "python3"
  },
  "language_info": {
   "codemirror_mode": {
    "name": "ipython",
    "version": 3
   },
   "file_extension": ".py",
   "mimetype": "text/x-python",
   "name": "python",
   "nbconvert_exporter": "python",
   "pygments_lexer": "ipython3",
   "version": "3.7.4"
  }
 },
 "nbformat": 4,
 "nbformat_minor": 4
}
